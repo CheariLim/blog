{
 "cells": [
  {
   "cell_type": "markdown",
   "id": "78da60ab",
   "metadata": {},
   "source": [
    "# python Language Basics, and Jupyter Notebooks"
   ]
  },
  {
   "cell_type": "markdown",
   "id": "9e0d8e73",
   "metadata": {},
   "source": [
    "# Python Language"
   ]
  },
  {
   "cell_type": "code",
   "execution_count": 1,
   "id": "19a062cc",
   "metadata": {},
   "outputs": [],
   "source": [
    "a = 5; b = 6; c = 7"
   ]
  },
  {
   "cell_type": "code",
   "execution_count": 2,
   "id": "f979c859",
   "metadata": {},
   "outputs": [
    {
     "data": {
      "text/plain": [
       "7"
      ]
     },
     "execution_count": 2,
     "metadata": {},
     "output_type": "execute_result"
    }
   ],
   "source": [
    "c"
   ]
  },
  {
   "cell_type": "code",
   "execution_count": 3,
   "id": "5f33a5f7",
   "metadata": {},
   "outputs": [
    {
     "data": {
      "text/plain": [
       "True"
      ]
     },
     "execution_count": 3,
     "metadata": {},
     "output_type": "execute_result"
    }
   ],
   "source": [
    "a = 5\n",
    "isinstance(a, int)"
   ]
  },
  {
   "cell_type": "code",
   "execution_count": 4,
   "id": "6e118950",
   "metadata": {},
   "outputs": [
    {
     "data": {
      "text/plain": [
       "True"
      ]
     },
     "execution_count": 4,
     "metadata": {},
     "output_type": "execute_result"
    }
   ],
   "source": [
    "a = 5; b = 4.5\n",
    "isinstance(a, (int,float))\n",
    "isinstance(b, (int,float))"
   ]
  },
  {
   "cell_type": "markdown",
   "id": "e35a262c",
   "metadata": {},
   "source": [
    "# Attributes and methods"
   ]
  },
  {
   "cell_type": "markdown",
   "id": "e13344fd",
   "metadata": {},
   "source": [
    "## Objects in Python typically have both attributes(other Python stored \"inside\" the object) and methods(functions associated with an object that can have access to the object's internal data)."
   ]
  },
  {
   "cell_type": "code",
   "execution_count": null,
   "id": "4f93e558",
   "metadata": {},
   "outputs": [],
   "source": []
  },
  {
   "cell_type": "code",
   "execution_count": null,
   "id": "0d9be91f",
   "metadata": {},
   "outputs": [],
   "source": []
  },
  {
   "cell_type": "code",
   "execution_count": null,
   "id": "cc0f1e3a",
   "metadata": {},
   "outputs": [],
   "source": []
  },
  {
   "cell_type": "markdown",
   "id": "bee8c25f",
   "metadata": {},
   "source": [
    "# Imports"
   ]
  },
  {
   "cell_type": "markdown",
   "id": "df0d4b8b",
   "metadata": {},
   "source": [
    "## In Python a module is simply a file with the py. extension containing Python code. Suppose that we had the following module:"
   ]
  },
  {
   "cell_type": "code",
   "execution_count": 14,
   "id": "261a139b",
   "metadata": {},
   "outputs": [],
   "source": [
    "#some_module.py"
   ]
  },
  {
   "cell_type": "code",
   "execution_count": 18,
   "id": "ba46b58b",
   "metadata": {},
   "outputs": [],
   "source": [
    "import some_module\n",
    "result = some_module.f(5)"
   ]
  },
  {
   "cell_type": "code",
   "execution_count": 19,
   "id": "6168ca20",
   "metadata": {},
   "outputs": [
    {
     "data": {
      "text/plain": [
       "3.14"
      ]
     },
     "execution_count": 19,
     "metadata": {},
     "output_type": "execute_result"
    }
   ],
   "source": [
    "pi = some_module.PI\n",
    "pi"
   ]
  },
  {
   "cell_type": "markdown",
   "id": "378bdca0",
   "metadata": {},
   "source": [
    "# Or equivalently:"
   ]
  },
  {
   "cell_type": "code",
   "execution_count": 20,
   "id": "37b8a3ca",
   "metadata": {},
   "outputs": [
    {
     "data": {
      "text/plain": [
       "8.14"
      ]
     },
     "execution_count": 20,
     "metadata": {},
     "output_type": "execute_result"
    }
   ],
   "source": [
    "from some_module import f, g, PI\n",
    "result = g(5, PI)\n",
    "result"
   ]
  },
  {
   "cell_type": "markdown",
   "id": "d3ef716a",
   "metadata": {},
   "source": [
    "## By using the as keyword you can give imports different variable names:"
   ]
  },
  {
   "cell_type": "code",
   "execution_count": 22,
   "id": "ddc0497f",
   "metadata": {},
   "outputs": [],
   "source": [
    "import some_module as sm \n",
    "from some_module import PI as pi, g as gf\n",
    "\n",
    "r1 = sm.f(pi)\n",
    "r2 = gf(6, pi)"
   ]
  },
  {
   "cell_type": "code",
   "execution_count": 23,
   "id": "a57132d4",
   "metadata": {},
   "outputs": [
    {
     "data": {
      "text/plain": [
       "5.140000000000001"
      ]
     },
     "execution_count": 23,
     "metadata": {},
     "output_type": "execute_result"
    }
   ],
   "source": [
    "r1"
   ]
  },
  {
   "cell_type": "code",
   "execution_count": 24,
   "id": "936976c2",
   "metadata": {},
   "outputs": [
    {
     "data": {
      "text/plain": [
       "9.14"
      ]
     },
     "execution_count": 24,
     "metadata": {},
     "output_type": "execute_result"
    }
   ],
   "source": [
    "r2"
   ]
  },
  {
   "cell_type": "markdown",
   "id": "b3695297",
   "metadata": {},
   "source": [
    "## Python strings are immutable; you cannot modify a string:"
   ]
  },
  {
   "cell_type": "code",
   "execution_count": 25,
   "id": "9b788cd2",
   "metadata": {},
   "outputs": [
    {
     "ename": "TypeError",
     "evalue": "'str' object does not support item assignment",
     "output_type": "error",
     "traceback": [
      "\u001b[1;31m---------------------------------------------------------------------------\u001b[0m",
      "\u001b[1;31mTypeError\u001b[0m                                 Traceback (most recent call last)",
      "\u001b[1;32m<ipython-input-25-cfa170a67205>\u001b[0m in \u001b[0;36m<module>\u001b[1;34m\u001b[0m\n\u001b[0;32m      1\u001b[0m \u001b[0ma\u001b[0m \u001b[1;33m=\u001b[0m \u001b[1;34m'this is a string'\u001b[0m\u001b[1;33m\u001b[0m\u001b[1;33m\u001b[0m\u001b[0m\n\u001b[1;32m----> 2\u001b[1;33m \u001b[0ma\u001b[0m\u001b[1;33m[\u001b[0m\u001b[1;36m10\u001b[0m\u001b[1;33m]\u001b[0m \u001b[1;33m=\u001b[0m \u001b[1;34m'f'\u001b[0m\u001b[1;33m\u001b[0m\u001b[1;33m\u001b[0m\u001b[0m\n\u001b[0m",
      "\u001b[1;31mTypeError\u001b[0m: 'str' object does not support item assignment"
     ]
    }
   ],
   "source": [
    "a = 'this is a string'\n",
    "a[10] = 'f'"
   ]
  },
  {
   "cell_type": "code",
   "execution_count": 26,
   "id": "321863bb",
   "metadata": {},
   "outputs": [
    {
     "data": {
      "text/plain": [
       "'this is a longer string'"
      ]
     },
     "execution_count": 26,
     "metadata": {},
     "output_type": "execute_result"
    }
   ],
   "source": [
    "b = a.replace('string', 'longer string')\n",
    "b"
   ]
  },
  {
   "cell_type": "code",
   "execution_count": 27,
   "id": "35c6458f",
   "metadata": {},
   "outputs": [
    {
     "data": {
      "text/plain": [
       "'this is a string'"
      ]
     },
     "execution_count": 27,
     "metadata": {},
     "output_type": "execute_result"
    }
   ],
   "source": [
    "a"
   ]
  },
  {
   "cell_type": "code",
   "execution_count": 41,
   "id": "43adfaac",
   "metadata": {},
   "outputs": [
    {
     "data": {
      "text/plain": [
       "True"
      ]
     },
     "execution_count": 41,
     "metadata": {},
     "output_type": "execute_result"
    }
   ],
   "source": [
    "a = None\n",
    "a is None"
   ]
  },
  {
   "cell_type": "code",
   "execution_count": 42,
   "id": "395a98f6",
   "metadata": {},
   "outputs": [
    {
     "data": {
      "text/plain": [
       "True"
      ]
     },
     "execution_count": 42,
     "metadata": {},
     "output_type": "execute_result"
    }
   ],
   "source": [
    "b = 5\n",
    "b is not None"
   ]
  },
  {
   "cell_type": "markdown",
   "id": "4a8cf024",
   "metadata": {},
   "source": [
    "## None is also a common default value for function arguments:"
   ]
  },
  {
   "cell_type": "code",
   "execution_count": 1,
   "id": "f6b1ca6f",
   "metadata": {},
   "outputs": [],
   "source": [
    "def add_and_maybe_multiply(a, b, c=None):\n",
    "     result = a + b\n",
    "  \n",
    "     if c is not None:\n",
    "        result = result * c\n",
    "     \n",
    "     return result"
   ]
  },
  {
   "cell_type": "code",
   "execution_count": 2,
   "id": "4bc3d2dc",
   "metadata": {},
   "outputs": [
    {
     "data": {
      "text/plain": [
       "8"
      ]
     },
     "execution_count": 2,
     "metadata": {},
     "output_type": "execute_result"
    }
   ],
   "source": [
    "add_and_maybe_multiply(5,3)"
   ]
  },
  {
   "cell_type": "code",
   "execution_count": 3,
   "id": "8e96020b",
   "metadata": {},
   "outputs": [
    {
     "data": {
      "text/plain": [
       "80"
      ]
     },
     "execution_count": 3,
     "metadata": {},
     "output_type": "execute_result"
    }
   ],
   "source": [
    "add_and_maybe_multiply(5,3,10)"
   ]
  },
  {
   "cell_type": "markdown",
   "id": "7c50a738",
   "metadata": {},
   "source": [
    "# Dates and times"
   ]
  },
  {
   "cell_type": "markdown",
   "id": "e932b3bb",
   "metadata": {},
   "source": [
    "## The built-in Python datetime module provides datetime, date, and time types.\n",
    "## The datetime type, as you may imagine, combines the information stored in date and time and is the most commonly used:"
   ]
  },
  {
   "cell_type": "code",
   "execution_count": 8,
   "id": "33d4189a",
   "metadata": {},
   "outputs": [
    {
     "data": {
      "text/plain": [
       "datetime.datetime(2011, 10, 29, 20, 30, 21)"
      ]
     },
     "execution_count": 8,
     "metadata": {},
     "output_type": "execute_result"
    }
   ],
   "source": [
    "from datetime import datetime, date, time\n",
    "dt = datetime(2011,10, 29, 20, 30, 21)\n",
    "dt"
   ]
  },
  {
   "cell_type": "code",
   "execution_count": 9,
   "id": "af04559f",
   "metadata": {},
   "outputs": [
    {
     "data": {
      "text/plain": [
       "29"
      ]
     },
     "execution_count": 9,
     "metadata": {},
     "output_type": "execute_result"
    }
   ],
   "source": [
    "dt.day"
   ]
  },
  {
   "cell_type": "code",
   "execution_count": 10,
   "id": "18784483",
   "metadata": {},
   "outputs": [
    {
     "data": {
      "text/plain": [
       "30"
      ]
     },
     "execution_count": 10,
     "metadata": {},
     "output_type": "execute_result"
    }
   ],
   "source": [
    "dt.minute"
   ]
  },
  {
   "cell_type": "markdown",
   "id": "c0f0b3fc",
   "metadata": {},
   "source": [
    "## Given a datetime instance, you can extract the equivalent date and time objects by calling methods on the datetime of the same name: "
   ]
  },
  {
   "cell_type": "code",
   "execution_count": 12,
   "id": "92772d66",
   "metadata": {},
   "outputs": [
    {
     "data": {
      "text/plain": [
       "datetime.date(2011, 10, 29)"
      ]
     },
     "execution_count": 12,
     "metadata": {},
     "output_type": "execute_result"
    }
   ],
   "source": [
    "dt.date()"
   ]
  },
  {
   "cell_type": "code",
   "execution_count": 13,
   "id": "28448cf2",
   "metadata": {},
   "outputs": [
    {
     "data": {
      "text/plain": [
       "datetime.time(20, 30, 21)"
      ]
     },
     "execution_count": 13,
     "metadata": {},
     "output_type": "execute_result"
    }
   ],
   "source": [
    "dt.time()"
   ]
  },
  {
   "cell_type": "markdown",
   "id": "3a7a1270",
   "metadata": {},
   "source": [
    "## The strftime method formats a datetime as a string:"
   ]
  },
  {
   "cell_type": "code",
   "execution_count": 16,
   "id": "59c656bc",
   "metadata": {},
   "outputs": [
    {
     "data": {
      "text/plain": [
       "'10/29/2011 20:30'"
      ]
     },
     "execution_count": 16,
     "metadata": {},
     "output_type": "execute_result"
    }
   ],
   "source": [
    "dt.strftime(\"%m/%d/%Y %H:%M\")"
   ]
  },
  {
   "cell_type": "code",
   "execution_count": 17,
   "id": "e0a601af",
   "metadata": {},
   "outputs": [
    {
     "data": {
      "text/plain": [
       "'2011/10/29 20:30'"
      ]
     },
     "execution_count": 17,
     "metadata": {},
     "output_type": "execute_result"
    }
   ],
   "source": [
    "dt.strftime(\"%Y/%m/%d %H:%M\")"
   ]
  },
  {
   "cell_type": "markdown",
   "id": "d32b1763",
   "metadata": {},
   "source": [
    "## strings can be converted (parsed) into datetime objects with the strptime function:"
   ]
  },
  {
   "cell_type": "code",
   "execution_count": 19,
   "id": "69473c0d",
   "metadata": {},
   "outputs": [
    {
     "data": {
      "text/plain": [
       "datetime.datetime(2009, 10, 31, 0, 0)"
      ]
     },
     "execution_count": 19,
     "metadata": {},
     "output_type": "execute_result"
    }
   ],
   "source": [
    "datetime.strptime('20091031','%Y%m%d')"
   ]
  },
  {
   "cell_type": "markdown",
   "id": "126ac90c",
   "metadata": {},
   "source": [
    "## when you are aggregating or otherwise grouping time series data, it will occasionally be useful to replace time fields of a series of detetime-for example, replacing the minute and second fields with zero: "
   ]
  },
  {
   "cell_type": "code",
   "execution_count": 20,
   "id": "aedcd672",
   "metadata": {},
   "outputs": [
    {
     "data": {
      "text/plain": [
       "datetime.datetime(2011, 10, 29, 20, 0)"
      ]
     },
     "execution_count": 20,
     "metadata": {},
     "output_type": "execute_result"
    }
   ],
   "source": [
    "dt.replace(minute= 0, second = 0)"
   ]
  },
  {
   "cell_type": "code",
   "execution_count": 21,
   "id": "e36c640f",
   "metadata": {},
   "outputs": [
    {
     "data": {
      "text/plain": [
       "datetime.timedelta(days=17, seconds=7179)"
      ]
     },
     "execution_count": 21,
     "metadata": {},
     "output_type": "execute_result"
    }
   ],
   "source": [
    "dt2 = datetime(2011, 11, 15, 22, 30)\n",
    "delta = dt2 -dt\n",
    "delta"
   ]
  }
 ],
 "metadata": {
  "kernelspec": {
   "display_name": "Python 3",
   "language": "python",
   "name": "python3"
  },
  "language_info": {
   "codemirror_mode": {
    "name": "ipython",
    "version": 3
   },
   "file_extension": ".py",
   "mimetype": "text/x-python",
   "name": "python",
   "nbconvert_exporter": "python",
   "pygments_lexer": "ipython3",
   "version": "3.8.8"
  }
 },
 "nbformat": 4,
 "nbformat_minor": 5
}
